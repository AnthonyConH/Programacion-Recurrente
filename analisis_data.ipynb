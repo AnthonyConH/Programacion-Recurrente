{
 "cells": [
  {
   "cell_type": "code",
   "execution_count": 1,
   "metadata": {},
   "outputs": [],
   "source": [
    "import pandas as pd"
   ]
  },
  {
   "cell_type": "code",
   "execution_count": 3,
   "metadata": {},
   "outputs": [
    {
     "data": {
      "text/html": [
       "<div>\n",
       "<style scoped>\n",
       "    .dataframe tbody tr th:only-of-type {\n",
       "        vertical-align: middle;\n",
       "    }\n",
       "\n",
       "    .dataframe tbody tr th {\n",
       "        vertical-align: top;\n",
       "    }\n",
       "\n",
       "    .dataframe thead th {\n",
       "        text-align: right;\n",
       "    }\n",
       "</style>\n",
       "<table border=\"1\" class=\"dataframe\">\n",
       "  <thead>\n",
       "    <tr style=\"text-align: right;\">\n",
       "      <th></th>\n",
       "      <th>id_persona</th>\n",
       "      <th>Edad</th>\n",
       "      <th>Tipo_edad</th>\n",
       "      <th>Sexo</th>\n",
       "      <th>id_ubigeo</th>\n",
       "      <th>Fecha_atencion</th>\n",
       "      <th>Etapa</th>\n",
       "      <th>Diagnostico</th>\n",
       "      <th>Tipo_Dx</th>\n",
       "      <th>id_eess</th>\n",
       "    </tr>\n",
       "  </thead>\n",
       "  <tbody>\n",
       "    <tr>\n",
       "      <th>0</th>\n",
       "      <td>41240387</td>\n",
       "      <td>21</td>\n",
       "      <td>A</td>\n",
       "      <td>F</td>\n",
       "      <td>1126.0</td>\n",
       "      <td>20210312</td>\n",
       "      <td>18a-29a</td>\n",
       "      <td>85018.0</td>\n",
       "      <td>D</td>\n",
       "      <td>16370</td>\n",
       "    </tr>\n",
       "    <tr>\n",
       "      <th>1</th>\n",
       "      <td>38922963</td>\n",
       "      <td>1</td>\n",
       "      <td>A</td>\n",
       "      <td>F</td>\n",
       "      <td>1497.0</td>\n",
       "      <td>20210419</td>\n",
       "      <td>00a-11a</td>\n",
       "      <td>85018.0</td>\n",
       "      <td>D</td>\n",
       "      <td>242</td>\n",
       "    </tr>\n",
       "    <tr>\n",
       "      <th>2</th>\n",
       "      <td>39389813</td>\n",
       "      <td>6</td>\n",
       "      <td>M</td>\n",
       "      <td>F</td>\n",
       "      <td>1128.0</td>\n",
       "      <td>20210319</td>\n",
       "      <td>00a-11a</td>\n",
       "      <td>85018.0</td>\n",
       "      <td>D</td>\n",
       "      <td>446</td>\n",
       "    </tr>\n",
       "    <tr>\n",
       "      <th>3</th>\n",
       "      <td>41237370</td>\n",
       "      <td>23</td>\n",
       "      <td>A</td>\n",
       "      <td>F</td>\n",
       "      <td>1604.0</td>\n",
       "      <td>20210413</td>\n",
       "      <td>18a-29a</td>\n",
       "      <td>85018.0</td>\n",
       "      <td>D</td>\n",
       "      <td>2021</td>\n",
       "    </tr>\n",
       "    <tr>\n",
       "      <th>4</th>\n",
       "      <td>41237370</td>\n",
       "      <td>23</td>\n",
       "      <td>A</td>\n",
       "      <td>F</td>\n",
       "      <td>1604.0</td>\n",
       "      <td>20210203</td>\n",
       "      <td>18a-29a</td>\n",
       "      <td>85018.0</td>\n",
       "      <td>D</td>\n",
       "      <td>2021</td>\n",
       "    </tr>\n",
       "  </tbody>\n",
       "</table>\n",
       "</div>"
      ],
      "text/plain": [
       "   id_persona  Edad Tipo_edad Sexo  id_ubigeo  Fecha_atencion    Etapa  \\\n",
       "0    41240387    21         A    F     1126.0        20210312  18a-29a   \n",
       "1    38922963     1         A    F     1497.0        20210419  00a-11a   \n",
       "2    39389813     6         M    F     1128.0        20210319  00a-11a   \n",
       "3    41237370    23         A    F     1604.0        20210413  18a-29a   \n",
       "4    41237370    23         A    F     1604.0        20210203  18a-29a   \n",
       "\n",
       "   Diagnostico Tipo_Dx  id_eess  \n",
       "0      85018.0       D    16370  \n",
       "1      85018.0       D      242  \n",
       "2      85018.0       D      446  \n",
       "3      85018.0       D     2021  \n",
       "4      85018.0       D     2021  "
      ]
     },
     "execution_count": 3,
     "metadata": {},
     "output_type": "execute_result"
    }
   ],
   "source": [
    "# Leer el archivo CSV en un DataFrame\n",
    "df = pd.read_csv('TB_DIGTEL_ANEMIA_TAMIZAJE.csv')\n",
    "\n",
    "# Mostrar las primeras filas del DataFrame\n",
    "df.head()"
   ]
  },
  {
   "cell_type": "code",
   "execution_count": 4,
   "metadata": {},
   "outputs": [
    {
     "name": "stdout",
     "output_type": "stream",
     "text": [
      "id_persona        1292535\n",
      "Edad                   99\n",
      "Tipo_edad               3\n",
      "Sexo                    2\n",
      "id_ubigeo            1862\n",
      "Fecha_atencion        550\n",
      "Etapa                   5\n",
      "Diagnostico             2\n",
      "Tipo_Dx                 2\n",
      "id_eess              8220\n",
      "dtype: int64\n"
     ]
    }
   ],
   "source": [
    "# Contar los valores únicos en cada columna\n",
    "conteo_valores_unicos = df.nunique()\n",
    "\n",
    "# Mostrar el conteo\n",
    "print(conteo_valores_unicos)"
   ]
  },
  {
   "cell_type": "code",
   "execution_count": 5,
   "metadata": {},
   "outputs": [
    {
     "name": "stdout",
     "output_type": "stream",
     "text": [
      "['A' 'M' 'D']\n"
     ]
    }
   ],
   "source": [
    "# Obtener los valores únicos de una columna específica (por ejemplo, 'columna_ejemplo')\n",
    "valores_unicos = df['Tipo_edad'].unique()\n",
    "\n",
    "# Mostrar la lista de valores únicos\n",
    "print(valores_unicos)"
   ]
  },
  {
   "cell_type": "code",
   "execution_count": 6,
   "metadata": {},
   "outputs": [
    {
     "name": "stdout",
     "output_type": "stream",
     "text": [
      "['F' 'M']\n"
     ]
    }
   ],
   "source": [
    "valores_unicos = df['Sexo'].unique()\n",
    "\n",
    "# Mostrar la lista de valores únicos\n",
    "print(valores_unicos)"
   ]
  },
  {
   "cell_type": "code",
   "execution_count": 7,
   "metadata": {},
   "outputs": [
    {
     "name": "stdout",
     "output_type": "stream",
     "text": [
      "['18a-29a' '00a-11a' '30a-59a' '12a-17a' '60a+']\n"
     ]
    }
   ],
   "source": [
    "valores_unicos = df['Etapa'].unique()\n",
    "\n",
    "# Mostrar la lista de valores únicos\n",
    "print(valores_unicos)"
   ]
  },
  {
   "cell_type": "code",
   "execution_count": 8,
   "metadata": {},
   "outputs": [
    {
     "name": "stdout",
     "output_type": "stream",
     "text": [
      "[85018.   85018.01]\n"
     ]
    }
   ],
   "source": [
    "valores_unicos = df['Diagnostico'].unique()\n",
    "\n",
    "# Mostrar la lista de valores únicos\n",
    "print(valores_unicos)"
   ]
  },
  {
   "cell_type": "code",
   "execution_count": 9,
   "metadata": {},
   "outputs": [
    {
     "name": "stdout",
     "output_type": "stream",
     "text": [
      "['D' 'P']\n"
     ]
    }
   ],
   "source": [
    "valores_unicos = df['Tipo_Dx'].unique()\n",
    "\n",
    "# Mostrar la lista de valores únicos\n",
    "print(valores_unicos)"
   ]
  },
  {
   "cell_type": "code",
   "execution_count": 13,
   "metadata": {},
   "outputs": [
    {
     "name": "stdout",
     "output_type": "stream",
     "text": [
      "id_persona            0\n",
      "Edad                  0\n",
      "Tipo_edad             0\n",
      "Sexo                  0\n",
      "id_ubigeo         12494\n",
      "Fecha_atencion        0\n",
      "Etapa                 0\n",
      "Diagnostico           0\n",
      "Tipo_Dx               0\n",
      "id_eess               0\n",
      "dtype: int64\n"
     ]
    }
   ],
   "source": [
    "# Contar los valores nulos en cada columna\n",
    "valores_nulos = df.isnull().sum()\n",
    "\n",
    "# Mostrar el conteo de valores nulos\n",
    "print(valores_nulos)"
   ]
  },
  {
   "cell_type": "code",
   "execution_count": 14,
   "metadata": {},
   "outputs": [
    {
     "data": {
      "text/plain": [
       "(1886789, 10)"
      ]
     },
     "execution_count": 14,
     "metadata": {},
     "output_type": "execute_result"
    }
   ],
   "source": [
    "df.shape"
   ]
  },
  {
   "cell_type": "code",
   "execution_count": 15,
   "metadata": {},
   "outputs": [],
   "source": [
    "df = df.dropna(subset=['id_ubigeo'])"
   ]
  },
  {
   "cell_type": "code",
   "execution_count": 16,
   "metadata": {},
   "outputs": [
    {
     "name": "stdout",
     "output_type": "stream",
     "text": [
      "id_persona        0\n",
      "Edad              0\n",
      "Tipo_edad         0\n",
      "Sexo              0\n",
      "id_ubigeo         0\n",
      "Fecha_atencion    0\n",
      "Etapa             0\n",
      "Diagnostico       0\n",
      "Tipo_Dx           0\n",
      "id_eess           0\n",
      "dtype: int64\n"
     ]
    }
   ],
   "source": [
    "# Contar los valores nulos en cada columna\n",
    "valores_nulos = df.isnull().sum()\n",
    "\n",
    "# Mostrar el conteo de valores nulos\n",
    "print(valores_nulos)"
   ]
  },
  {
   "cell_type": "code",
   "execution_count": 19,
   "metadata": {},
   "outputs": [
    {
     "name": "stdout",
     "output_type": "stream",
     "text": [
      "El DataFrame ha sido exportado a un archivo CSV correctamente.\n"
     ]
    }
   ],
   "source": [
    "df.to_csv('dataset_limpio.csv', index=False)\n",
    "\n",
    "# Mostrar un mensaje de éxito\n",
    "print(\"El DataFrame ha sido exportado a un archivo CSV correctamente.\")"
   ]
  },
  {
   "cell_type": "code",
   "execution_count": 20,
   "metadata": {},
   "outputs": [
    {
     "name": "stdout",
     "output_type": "stream",
     "text": [
      "Diagnostico\n",
      "85018.00    1716452\n",
      "85018.01     157843\n",
      "Name: count, dtype: int64\n"
     ]
    }
   ],
   "source": [
    "# Selecciona la columna de interés, por ejemplo 'Sexo'\n",
    "conteo_valores = df['Diagnostico'].value_counts()\n",
    "\n",
    "# Mostrar el conteo de cada valor único\n",
    "print(conteo_valores)"
   ]
  },
  {
   "cell_type": "code",
   "execution_count": null,
   "metadata": {},
   "outputs": [],
   "source": []
  }
 ],
 "metadata": {
  "kernelspec": {
   "display_name": "Python 3",
   "language": "python",
   "name": "python3"
  },
  "language_info": {
   "codemirror_mode": {
    "name": "ipython",
    "version": 3
   },
   "file_extension": ".py",
   "mimetype": "text/x-python",
   "name": "python",
   "nbconvert_exporter": "python",
   "pygments_lexer": "ipython3",
   "version": "3.8.10"
  }
 },
 "nbformat": 4,
 "nbformat_minor": 2
}
